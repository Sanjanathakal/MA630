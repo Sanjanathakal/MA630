{
  "nbformat": 4,
  "nbformat_minor": 5,
  "metadata": {
    "kernelspec": {
      "display_name": "Python 3",
      "language": "python",
      "name": "python3"
    },
    "language_info": {
      "codemirror_mode": {
        "name": "ipython",
        "version": 3
      },
      "file_extension": ".py",
      "mimetype": "text/x-python",
      "name": "python",
      "nbconvert_exporter": "python",
      "pygments_lexer": "ipython3",
      "version": "3.8.8"
    },
    "colab": {
      "name": "Assignment 7 Question 2.ipynb",
      "provenance": [],
      "collapsed_sections": [],
      "include_colab_link": true
    }
  },
  "cells": [
    {
      "cell_type": "markdown",
      "metadata": {
        "id": "view-in-github",
        "colab_type": "text"
      },
      "source": [
        "<a href=\"https://colab.research.google.com/github/Sanjanathakal/MA630/blob/master/Assignment_7_Question_2.ipynb\" target=\"_parent\"><img src=\"https://colab.research.google.com/assets/colab-badge.svg\" alt=\"Open In Colab\"/></a>"
      ]
    },
    {
      "cell_type": "code",
      "metadata": {
        "id": "39c7cf6e"
      },
      "source": [
        "import numpy as np\n",
        "from sympy import *\n",
        "init_printing(use_unicode=True)\n",
        "import json\n",
        "import matplotlib.pyplot as plt\n",
        "import pandas as pd\n",
        "import sys\n",
        "from typing import Callable, List, Tuple, Union"
      ],
      "id": "39c7cf6e",
      "execution_count": null,
      "outputs": []
    },
    {
      "cell_type": "code",
      "metadata": {
        "id": "da7f9add"
      },
      "source": [
        "x = IndexedBase(\"x\")\n",
        "i = symbols(\"i\")\n",
        "C = symbols(\"C\")"
      ],
      "id": "da7f9add",
      "execution_count": null,
      "outputs": []
    },
    {
      "cell_type": "code",
      "metadata": {
        "id": "ZutWmEBtgag4"
      },
      "source": [
        "def func():\n",
        "    A =x[1] - 3 \n",
        "    B = x[2] - 5\n",
        "    D = x[1]**2 + x[2]**2 -10\n",
        "    E = -2*x[1] + x[2] -5\n",
        "    f = - A**2 - B**2 + ((C/2) * (( D**2 ) + ( E**2 )))\n",
        "    return f"
      ],
      "id": "ZutWmEBtgag4",
      "execution_count": null,
      "outputs": []
    },
    {
      "cell_type": "code",
      "metadata": {
        "colab": {
          "base_uri": "https://localhost:8080/"
        },
        "id": "msqaCla5vB0W",
        "outputId": "ef82a1ee-0bef-41f8-9c94-4b5936056e43"
      },
      "source": [
        "fn=func()\n",
        "print(fn)"
      ],
      "id": "msqaCla5vB0W",
      "execution_count": null,
      "outputs": [
        {
          "output_type": "stream",
          "name": "stdout",
          "text": [
            "C*((-2*x[1] + x[2] - 5)**2 + (x[1]**2 + x[2]**2 - 10)**2)/2 - (x[1] - 3)**2 - (x[2] - 5)**2\n"
          ]
        }
      ]
    },
    {
      "cell_type": "code",
      "metadata": {
        "id": "af82f026"
      },
      "source": [
        "def diff(element, function):\n",
        "    partial_diff = function.diff(element)\n",
        "    return partial_diff"
      ],
      "id": "af82f026",
      "execution_count": null,
      "outputs": []
    },
    {
      "cell_type": "code",
      "metadata": {
        "id": "6cbda86a"
      },
      "source": [
        "def gradient(n,function):  \n",
        "    partials = []\n",
        "    for j in range(1,3):\n",
        "        partial_diff = diff(x[j], function)\n",
        "        partials.append(partial_diff)\n",
        "    return partials"
      ],
      "id": "6cbda86a",
      "execution_count": null,
      "outputs": []
    },
    {
      "cell_type": "code",
      "metadata": {
        "id": "l6JqJpxfvIer"
      },
      "source": [
        "g = gradient(2,fn)"
      ],
      "id": "l6JqJpxfvIer",
      "execution_count": null,
      "outputs": []
    },
    {
      "cell_type": "code",
      "metadata": {
        "colab": {
          "base_uri": "https://localhost:8080/"
        },
        "id": "CrPBPbhlvP6j",
        "outputId": "cbf8f584-fba5-4aa1-902c-fc737ba8f0b4"
      },
      "source": [
        "print(g)"
      ],
      "id": "CrPBPbhlvP6j",
      "execution_count": null,
      "outputs": [
        {
          "output_type": "stream",
          "name": "stdout",
          "text": [
            "[C*(4*(x[1]**2 + x[2]**2 - 10)*x[1] + 8*x[1] - 4*x[2] + 20)/2 - 2*x[1] + 6, C*(4*(x[1]**2 + x[2]**2 - 10)*x[2] - 4*x[1] + 2*x[2] - 10)/2 - 2*x[2] + 10]\n"
          ]
        }
      ]
    },
    {
      "cell_type": "code",
      "metadata": {
        "id": "a878b13a"
      },
      "source": [
        "def direction_minimization(func: Callable, x0: List[float],d: np.ndarray,\n",
        "                           sL: float, val0: float, t0: float,\n",
        "                           toldir: float, itmax: int = 50, cut: float = 0.1,\n",
        "                           increase: int = 3) -> Tuple[float, float]:\n",
        "\n",
        "    # itmax = 50\n",
        "    # cut = 0.1\n",
        "    # increase = 3\n",
        "    small = 1E-8 * t0\n",
        "\n",
        "    tR = 0\n",
        "    tL = 0\n",
        "    # sL = s0\n",
        "    vL = val0\n",
        "    vR = val0\n",
        "    val = val0\n",
        "\n",
        "    t = t0\n",
        "    if t0 < 0:\n",
        "        t = 1\n",
        "\n",
        "    for i in range(itmax):\n",
        "\n",
        "        x = x0 + t*d\n",
        "        val, grad = banana(x)\n",
        "        s = np.dot(d, grad)\n",
        "        if (abs(s) < toldir) and (val < val0):\n",
        "            break\n",
        "        if (s > 0) or (val > val0):\n",
        "            tR = t\n",
        "            sR = s\n",
        "            vR = val\n",
        "        else:\n",
        "            tL = t\n",
        "            sL = s\n",
        "            vL = val\n",
        "\n",
        "        if tR > 0:\n",
        "            a = sL + sR - 3*(vR - vL)/(tR - tL)\n",
        "            b = np.sqrt(a**2 - sL*sR)\n",
        "            t = tR - (tR - tL)*(sR + b - a)/(sR - sL + 2*b)\n",
        "            t = max(t, tL + cut*(tR - tL))\n",
        "            t = min(t, tL + (1 - cut)*(tR - tL))\n",
        "        else:\n",
        "             t = increase*t\n",
        "\n",
        "        if t < small:\n",
        "            break\n",
        "\n",
        "    if vL < val:\n",
        "        t = tL\n",
        "        val = vL\n",
        "        x = x0 + tL*d\n",
        "\n",
        "    if vR < val:\n",
        "        t = tR\n",
        "        val = vR\n",
        "        x = x0 + tR*d\n",
        "\n",
        "    if val >= val0:\n",
        "        t = 0\n",
        "        x = x0\n",
        "\n",
        "    return x, t"
      ],
      "id": "a878b13a",
      "execution_count": null,
      "outputs": []
    },
    {
      "cell_type": "code",
      "metadata": {
        "id": "p5uWmMGidvfr"
      },
      "source": [
        "def conjugate_gradient(func: Callable, x: List[float],step_size: float,\n",
        "                       max_iter: int = 100, tolerance: float = 1E-4\n",
        "                       ) -> List[np.ndarray]:\n",
        "    x = np.array(x)\n",
        "    point_trajectory = [x]\n",
        "    cur_step_size = step_size\n",
        "    step_size_tol = 1.0E-10\n",
        "\n",
        "    max_cycles = min(10, x.size)\n",
        "    cycle = 0\n",
        "\n",
        "    prev_fun_grad = np.zeros(x.size)\n",
        "    prev_direction = 0\n",
        "    prev_norm_grad = 1\n",
        "    for i in range(max_iter):\n",
        "        fun_val, fun_grad = banana(x)\n",
        "        norm_grad = np.linalg.norm(fun_grad)\n",
        "\n",
        "        print(f'it={str(i).zfill(3)}  f={fun_val:.5f} '\n",
        "              f' |grad f|={norm_grad:.5f}')\n",
        "\n",
        "        x_values = json.dumps(np.around(x, decimals=4).tolist())\n",
        "        print(f'  x = {x_values}')\n",
        "\n",
        "        if norm_grad < tolerance:\n",
        "            break\n",
        "\n",
        "        s = -norm_grad**2\n",
        "        direction = -fun_grad\n",
        "        if cycle > 0:\n",
        "            grad_delta = fun_grad - prev_fun_grad\n",
        "            alpha = np.dot(grad_delta, fun_grad) / prev_norm_grad**2\n",
        "            direction = (alpha * prev_direction) - fun_grad\n",
        "            s = np.dot(direction, fun_grad)\n",
        "\n",
        "            if s >= -tolerance**2:\n",
        "                direction = -fun_grad\n",
        "                s = -norm_grad**2\n",
        "                cycle = 0\n",
        "\n",
        "        prev_fun_grad = fun_grad\n",
        "        prev_direction = direction\n",
        "        prev_norm_grad = norm_grad\n",
        "\n",
        "        if cur_step_size <= step_size_tol:\n",
        "            cur_step_size = step_size\n",
        "\n",
        "        norm_direction = np.linalg.norm(direction)\n",
        "        toldir = tolerance * norm_direction\n",
        "        init_step = cur_step_size / norm_direction\n",
        "        x, cur_step_size = direction_minimization(\n",
        "            func=func,\n",
        "            x0=x,\n",
        "            d=direction,\n",
        "            sL=s,\n",
        "            val0=fun_val,\n",
        "            t0=init_step,\n",
        "            toldir=toldir\n",
        "        )\n",
        "\n",
        "        point_trajectory += [x]\n",
        "\n",
        "        if cycle == 0 and cur_step_size == 0:\n",
        "            break\n",
        "        if cycle == max_cycles or cur_step_size == 0:\n",
        "            cycle = 0\n",
        "        else:\n",
        "            cycle += 1\n",
        "\n",
        "        cur_step_size = cur_step_size * norm_direction\n",
        "\n",
        "    return point_trajectory\n"
      ],
      "id": "p5uWmMGidvfr",
      "execution_count": null,
      "outputs": []
    },
    {
      "cell_type": "code",
      "metadata": {
        "id": "YI61YNPKOqcB"
      },
      "source": [
        "fun = func()"
      ],
      "id": "YI61YNPKOqcB",
      "execution_count": null,
      "outputs": []
    },
    {
      "cell_type": "code",
      "metadata": {
        "id": "6095428c",
        "colab": {
          "base_uri": "https://localhost:8080/"
        },
        "outputId": "a704f358-6955-4dad-8fc5-e68e540ffdea"
      },
      "source": [
        "#Sample of the equation\n",
        "fn_expr = fun.doit()\n",
        "print(fn_expr)"
      ],
      "id": "6095428c",
      "execution_count": null,
      "outputs": [
        {
          "output_type": "stream",
          "name": "stdout",
          "text": [
            "C*((-2*x[1] + x[2] - 5)**2 + (x[1]**2 + x[2]**2 - 10)**2)/2 - (x[1] - 3)**2 - (x[2] - 5)**2\n"
          ]
        }
      ]
    },
    {
      "cell_type": "code",
      "metadata": {
        "colab": {
          "base_uri": "https://localhost:8080/"
        },
        "id": "kWz2Z-nds3eY",
        "outputId": "53f2d1f5-8883-4efb-f748-71a7e7f43f8e"
      },
      "source": [
        "grad = gradient(2,fn_expr)\n",
        "pprint(grad)"
      ],
      "id": "kWz2Z-nds3eY",
      "execution_count": null,
      "outputs": [
        {
          "output_type": "stream",
          "name": "stdout",
          "text": [
            "⎡  ⎛  ⎛    2       2     ⎞                            ⎞                 ⎛  ⎛  \n",
            "⎢C⋅⎝4⋅⎝x[1]  + x[2]  - 10⎠⋅x[1] + 8⋅x[1] - 4⋅x[2] + 20⎠               C⋅⎝4⋅⎝x[\n",
            "⎢────────────────────────────────────────────────────── - 2⋅x[1] + 6, ────────\n",
            "⎣                          2                                                  \n",
            "\n",
            "  2       2     ⎞                            ⎞              ⎤\n",
            "1]  + x[2]  - 10⎠⋅x[2] - 4⋅x[1] + 2⋅x[2] - 10⎠              ⎥\n",
            "────────────────────────────────────────────── - 2⋅x[2] + 10⎥\n",
            "                  2                                         ⎦\n"
          ]
        }
      ]
    },
    {
      "cell_type": "code",
      "metadata": {
        "colab": {
          "base_uri": "https://localhost:8080/"
        },
        "id": "437284fe",
        "outputId": "1cf9cc37-26fd-4424-badb-1bf41fe80721"
      },
      "source": [
        "#coverting to a list:\n",
        "for i in range(0,2):\n",
        "    print(grad[i],\",\\n\")"
      ],
      "id": "437284fe",
      "execution_count": null,
      "outputs": [
        {
          "output_type": "stream",
          "name": "stdout",
          "text": [
            "C*(4*(x[1]**2 + x[2]**2 - 10)*x[1] + 8*x[1] - 4*x[2] + 20)/2 - 2*x[1] + 6 ,\n",
            "\n",
            "C*(4*(x[1]**2 + x[2]**2 - 10)*x[2] - 4*x[1] + 2*x[2] - 10)/2 - 2*x[2] + 10 ,\n",
            "\n"
          ]
        }
      ]
    },
    {
      "cell_type": "code",
      "metadata": {
        "id": "LM4aoemH1D63"
      },
      "source": [
        "#For N = 10 \n",
        "def banana(x: List[float]) -> Union[float, Tuple]:\n",
        "    C=100000\n",
        "    fun_val = C*((-2*x[0] + x[1] - 5)**2 + (x[0]**2 + x[1]**2 - 10)**2)/2 - (x[0] - 3)**2 - (x[1] - 5)**2\n",
        "    fun_grad = np.array([C*(4*(x[0]**2 + x[1]**2 - 10)*x[0] + 8*x[0] - 4*x[1] + 20)/2 - 2*x[0] + 6 ,\n",
        "                         C*(4*(x[0]**2 + x[1]**2 - 10)*x[1] - 4*x[0] + 2*x[1] - 10)/2 - 2*x[1] + 10])\n",
        "    \n",
        "    return fun_val, fun_grad"
      ],
      "id": "LM4aoemH1D63",
      "execution_count": null,
      "outputs": []
    },
    {
      "cell_type": "code",
      "metadata": {
        "colab": {
          "base_uri": "https://localhost:8080/"
        },
        "id": "3050c5fc",
        "outputId": "abaa9cea-0675-4674-e5e2-a253a4f314fc"
      },
      "source": [
        "step_size = 1.0\n",
        "max_iter = 100\n",
        "tolerance = 1E-5\n",
        "\n",
        "x= [3.0,5.0]\n",
        "path = conjugate_gradient(banana(x),x,step_size, max_iter, tolerance)"
      ],
      "id": "3050c5fc",
      "execution_count": null,
      "outputs": [
        {
          "output_type": "stream",
          "name": "stdout",
          "text": [
            "it=000  f=30600000.00000  |grad f|=28123299.94862\n",
            "  x = [3.0, 5.0]\n",
            "it=001  f=1379769.36065  |grad f|=1177382.50489\n",
            "  x = [1.4959, 2.7438]\n",
            "it=002  f=445257.32771  |grad f|=1182606.15266\n",
            "  x = [0.389, 3.4166]\n",
            "it=003  f=19734.75890  |grad f|=383700.25903\n",
            "  x = [-0.868, 3.1405]\n",
            "it=004  f=3166.10040  |grad f|=40946.96289\n",
            "  x = [-0.8493, 3.0551]\n",
            "it=005  f=19.90701  |grad f|=17930.01016\n",
            "  x = [-0.9974, 3.0056]\n",
            "it=006  f=-19.56665  |grad f|=527.23034\n",
            "  x = [-0.9982, 3.0006]\n",
            "it=007  f=-19.66754  |grad f|=695.26578\n",
            "  x = [-0.9986, 3.0007]\n",
            "it=008  f=-20.00017  |grad f|=1.02578\n",
            "  x = [-1.0, 3.0]\n",
            "it=009  f=-20.00017  |grad f|=0.00018\n",
            "  x = [-1.0, 3.0]\n",
            "it=010  f=-20.00017  |grad f|=0.00010\n",
            "  x = [-1.0, 3.0]\n",
            "it=011  f=-20.00017  |grad f|=0.00010\n",
            "  x = [-1.0, 3.0]\n"
          ]
        }
      ]
    },
    {
      "cell_type": "code",
      "metadata": {
        "id": "8GtWvcpNRUff"
      },
      "source": [
        ""
      ],
      "id": "8GtWvcpNRUff",
      "execution_count": null,
      "outputs": []
    }
  ]
}